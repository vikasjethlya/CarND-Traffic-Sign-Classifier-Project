{
 "cells": [
  {
   "cell_type": "markdown",
   "metadata": {
    "deletable": true,
    "editable": true
   },
   "source": [
    "# Self-Driving Car Engineer Nanodegree\n",
    "\n",
    "## Deep Learning\n",
    "\n",
    "## Project: Build a Traffic Sign Recognition Classifier\n",
    "\n",
    "In this notebook, a template is provided for you to implement your functionality in stages, which is required to successfully complete this project. If additional code is required that cannot be included in the notebook, be sure that the Python code is successfully imported and included in your submission if necessary. \n",
    "\n",
    "> **Note**: Once you have completed all of the code implementations, you need to finalize your work by exporting the iPython Notebook as an HTML document. Before exporting the notebook to html, all of the code cells need to have been run so that reviewers can see the final implementation and output. You can then export the notebook by using the menu above and navigating to  \\n\",\n",
    "    \"**File -> Download as -> HTML (.html)**. Include the finished document along with this notebook as your submission. \n",
    "\n",
    "In addition to implementing code, there is a writeup to complete. The writeup should be completed in a separate file, which can be either a markdown file or a pdf document. There is a [write up template](https://github.com/udacity/CarND-Traffic-Sign-Classifier-Project/blob/master/writeup_template.md) that can be used to guide the writing process. Completing the code template and writeup template will cover all of the [rubric points](https://review.udacity.com/#!/rubrics/481/view) for this project.\n",
    "\n",
    "The [rubric](https://review.udacity.com/#!/rubrics/481/view) contains \"Stand Out Suggestions\" for enhancing the project beyond the minimum requirements. The stand out suggestions are optional. If you decide to pursue the \"stand out suggestions\", you can include the code in this Ipython notebook and also discuss the results in the writeup file.\n",
    "\n",
    "\n",
    ">**Note:** Code and Markdown cells can be executed using the **Shift + Enter** keyboard shortcut. In addition, Markdown cells can be edited by typically double-clicking the cell to enter edit mode."
   ]
  },
  {
   "cell_type": "markdown",
   "metadata": {
    "deletable": true,
    "editable": true
   },
   "source": [
    "---\n",
    "## Step 0: Load The Data"
   ]
  },
  {
   "cell_type": "code",
   "execution_count": 1,
   "metadata": {
    "collapsed": false,
    "deletable": true,
    "editable": true
   },
   "outputs": [
    {
     "name": "stderr",
     "output_type": "stream",
     "text": [
      "100%|██████████| 3/3 [00:00<00:00, 3057.07files/s]"
     ]
    },
    {
     "name": "stdout",
     "output_type": "stream",
     "text": [
      "test.p\n",
      "train.p\n",
      "valid.p\n"
     ]
    },
    {
     "name": "stderr",
     "output_type": "stream",
     "text": [
      "\n"
     ]
    }
   ],
   "source": [
    "# Load pickled data\n",
    "import pickle\n",
    "import numpy as np\n",
    "import hashlib\n",
    "from tqdm import tqdm\n",
    "from zipfile import ZipFile\n",
    "\n",
    "file = 'traffic-signs-data.zip'\n",
    "\n",
    "with ZipFile(file) as zipf:\n",
    "    filenames_pbar = tqdm(zipf.namelist(), unit='files')\n",
    "    for filename in filenames_pbar:\n",
    "        print(filename)\n",
    "        if filename == 'train.p':\n",
    "            training_file = filename\n",
    "        elif filename == 'valid.p':\n",
    "            validation_file = filename\n",
    "        else:\n",
    "            testing_file = filename\n",
    "\n",
    "with open(training_file, mode='rb') as f:\n",
    "    train = pickle.load(f)\n",
    "with open(validation_file, mode='rb') as f:\n",
    "    valid = pickle.load(f)\n",
    "with open(testing_file, mode='rb') as f:\n",
    "    test = pickle.load(f)\n",
    "    \n",
    "X_train, y_train = train['features'], train['labels']\n",
    "X_valid, y_valid = valid['features'], valid['labels']\n",
    "X_test, y_test = test['features'], test['labels']"
   ]
  },
  {
   "cell_type": "markdown",
   "metadata": {
    "deletable": true,
    "editable": true
   },
   "source": [
    "---\n",
    "\n",
    "## Step 1: Dataset Summary & Exploration\n",
    "\n",
    "The pickled data is a dictionary with 4 key/value pairs:\n",
    "\n",
    "- `'features'` is a 4D array containing raw pixel data of the traffic sign images, (num examples, width, height, channels).\n",
    "- `'labels'` is a 1D array containing the label/class id of the traffic sign. The file `signnames.csv` contains id -> name mappings for each id.\n",
    "- `'sizes'` is a list containing tuples, (width, height) representing the the original width and height the image.\n",
    "- `'coords'` is a list containing tuples, (x1, y1, x2, y2) representing coordinates of a bounding box around the sign in the image. **THESE COORDINATES ASSUME THE ORIGINAL IMAGE. THE PICKLED DATA CONTAINS RESIZED VERSIONS (32 by 32) OF THESE IMAGES**\n",
    "\n",
    "Complete the basic data summary below. Use python, numpy and/or pandas methods to calculate the data summary rather than hard coding the results. For example, the [pandas shape method](http://pandas.pydata.org/pandas-docs/stable/generated/pandas.DataFrame.shape.html) might be useful for calculating some of the summary results. "
   ]
  },
  {
   "cell_type": "markdown",
   "metadata": {
    "deletable": true,
    "editable": true
   },
   "source": [
    "### Provide a Basic Summary of the Data Set Using Python, Numpy and/or Pandas"
   ]
  },
  {
   "cell_type": "code",
   "execution_count": 2,
   "metadata": {
    "collapsed": false,
    "deletable": true,
    "editable": true
   },
   "outputs": [
    {
     "name": "stdout",
     "output_type": "stream",
     "text": [
      "Number of training examples = 34799\n",
      "Number of testing examples = 12630\n",
      "Number of Validation examples = 4410\n",
      "Image data shape = (32, 32, 3)\n",
      "Number of classes = 43\n"
     ]
    }
   ],
   "source": [
    "### Used numpy methods to fill the data \n",
    "\n",
    "import numpy as np\n",
    "\n",
    "# Number of training examples\n",
    "n_train = X_train.shape[0]\n",
    "\n",
    "# Number of testing examples.\n",
    "n_test = X_test.shape[0]\n",
    "\n",
    "n_valid = X_valid.shape[0]\n",
    "\n",
    "# What's the shape of an traffic sign image?\n",
    "image_shape = X_train.shape[1:]\n",
    "\n",
    "# How many unique classes/labels there are in the dataset.\n",
    "n_classes = np.unique(y_train).shape[0]\n",
    "\n",
    "print(\"Number of training examples =\", n_train)\n",
    "print(\"Number of testing examples =\", n_test)\n",
    "print(\"Number of Validation examples =\", n_valid)\n",
    "print(\"Image data shape =\", image_shape)\n",
    "print(\"Number of classes =\", n_classes)"
   ]
  },
  {
   "cell_type": "markdown",
   "metadata": {
    "deletable": true,
    "editable": true
   },
   "source": [
    "### Include an exploratory visualization of the dataset"
   ]
  },
  {
   "cell_type": "markdown",
   "metadata": {
    "deletable": true,
    "editable": true
   },
   "source": [
    "Visualize the German Traffic Signs Dataset using the pickled file(s). This is open ended, suggestions include: plotting traffic sign images, plotting the count of each sign, etc.\n",
    "\n",
    "The [Matplotlib](http://matplotlib.org/) [examples](http://matplotlib.org/examples/index.html) and [gallery](http://matplotlib.org/gallery.html) pages are a great resource for doing visualizations in Python.\n",
    "\n",
    "**NOTE:** It's recommended you start with something simple first. If you wish to do more, come back to it after you've completed the rest of the sections."
   ]
  },
  {
   "cell_type": "code",
   "execution_count": 3,
   "metadata": {
    "collapsed": false,
    "deletable": true,
    "editable": true
   },
   "outputs": [
    {
     "data": {
      "image/png": "[encoded data removed]",
      "text/plain": [
       "<matplotlib.figure.Figure at 0x7f7bbc097c88>"
      ]
     },
     "metadata": {},
     "output_type": "display_data"
    },
    {
     "name": "stdout",
     "output_type": "stream",
     "text": [
      "10\n"
     ]
    }
   ],
   "source": [
    "# Random Visualize the German Traffic Signs Dataset\n",
    "import random\n",
    "import numpy as np\n",
    "import matplotlib.pyplot as plt\n",
    "%matplotlib inline\n",
    "\n",
    "index = random.randint(0, len(X_train))\n",
    "image = X_train[index].squeeze()\n",
    "\n",
    "plt.figure(figsize=(1,1))\n",
    "plt.imshow(image)\n",
    "plt.show()\n",
    "print(y_train[index])"
   ]
  },
  {
   "cell_type": "markdown",
   "metadata": {
    "deletable": true,
    "editable": true
   },
   "source": [
    "### Training DataSet Summary visulization "
   ]
  },
  {
   "cell_type": "code",
   "execution_count": 4,
   "metadata": {
    "collapsed": false,
    "deletable": true,
    "editable": true
   },
   "outputs": [
    {
     "data": {
      "image/png": "[encoded data removed]",
      "text/plain": [
       "<matplotlib.figure.Figure at 0x7f7b87fd5e10>"
      ]
     },
     "metadata": {},
     "output_type": "display_data"
    }
   ],
   "source": [
    "# Unique Traffic Sign Id and no of Training Example Available\n",
    "unique, counts = np.unique(y_train, return_counts=True)\n",
    "y_pos= np.arange(len(unique))\n",
    "plt.figure(figsize=(15,5))\n",
    "plt.bar(unique, counts, align='center', alpha=0.5)\n",
    "plt.xticks(y_pos, unique)\n",
    "plt.xlabel('Unique Traffic Sign IDs')\n",
    "plt.ylabel('No of Training Example')\n",
    "plt.show()"
   ]
  },
  {
   "cell_type": "markdown",
   "metadata": {
    "deletable": true,
    "editable": true
   },
   "source": [
    "### Pre-process the Data Set (normalization, grayscale, etc.)"
   ]
  },
  {
   "cell_type": "code",
   "execution_count": 5,
   "metadata": {
    "collapsed": false,
    "deletable": true,
    "editable": true
   },
   "outputs": [],
   "source": [
    "# Suffle the data\n",
    "\n",
    "from sklearn.utils import shuffle\n",
    "import tensorflow as tf\n",
    "import cv2\n",
    "\n",
    "import random\n",
    "import numpy as np\n",
    "import matplotlib.pyplot as plt\n",
    "%matplotlib inline\n",
    "\n",
    "X_train, y_train = shuffle(X_train, y_train)\n",
    "X_valid, y_valid = shuffle(X_valid, y_valid)\n",
    "X_test, y_test = shuffle(X_test, y_test)\n"
   ]
  },
  {
   "cell_type": "markdown",
   "metadata": {
    "deletable": true,
    "editable": true
   },
   "source": [
    "### Grayscale and Normalization"
   ]
  },
  {
   "cell_type": "code",
   "execution_count": 6,
   "metadata": {
    "collapsed": false,
    "deletable": true,
    "editable": true
   },
   "outputs": [
    {
     "name": "stdout",
     "output_type": "stream",
     "text": [
      "Mean of Traning data set Image  0.356995258115\n",
      "Mean of Validation data set Image 0.359618466831\n",
      "Mean of Test data set Image 0.354988184159\n"
     ]
    },
    {
     "data": {
      "text/plain": [
       "<matplotlib.text.Text at 0x7f7b85f1dbe0>"
      ]
     },
     "execution_count": 6,
     "metadata": {},
     "output_type": "execute_result"
    },
    {
     "data": {
      "image/png": "[encoded data removed]",
      "text/plain": [
       "<matplotlib.figure.Figure at 0x7f7b441eef98>"
      ]
     },
     "metadata": {},
     "output_type": "display_data"
    }
   ],
   "source": [
    "# Grayscale and Normalization of Training, Validation and Test Set\n",
    "\n",
    "import tensorflow as tf\n",
    "import cv2\n",
    "from skimage import exposure\n",
    "import warnings\n",
    "\n",
    "X_train_gray = []\n",
    "X_valid_gray = []\n",
    "X_test_gray = []\n",
    "a = 0.1\n",
    "b = 0.9\n",
    "x_min = 0\n",
    "x_max = 255\n",
    "\n",
    "# DO operation for Train data set\n",
    "\n",
    "def image_gray_and_norm(image):\n",
    "    gray_img = cv2.cvtColor(image, cv2.COLOR_RGB2GRAY) # converting to RGB to GrayScale \n",
    "    norm_gray_img = a + ((gray_img - x_min)*(b-a)/(x_max -x_min)) # Normalizing the GrayScale image\n",
    "    return norm_gray_img\n",
    "\n",
    "for i in range(len(X_train)):\n",
    "    img = image_gray_and_norm(X_train[i])\n",
    "    X_train_gray.append(img)\n",
    "    \n",
    "X_train_gray = np.array(X_train_gray)\n",
    "X_train_gray = np.expand_dims(X_train_gray, axis=3)\n",
    "\n",
    "# DO operation for Validation data set\n",
    "for i in range (len(X_valid)):\n",
    "    img = image_gray_and_norm(X_valid[i])\n",
    "    X_valid_gray.append(img)\n",
    "    \n",
    "X_valid_gray = np.array(X_valid_gray)\n",
    "X_valid_gray = np.expand_dims(X_valid_gray, axis=3)\n",
    "\n",
    "# DO operation for Test data set\n",
    "for i in range (len(X_test)):\n",
    "    img = image_gray_and_norm(X_test[i])\n",
    "    X_test_gray.append(img)\n",
    "\n",
    "X_test_gray = np.array(X_test_gray)\n",
    "X_test_gray = np.expand_dims(X_test_gray, axis=3)    \n",
    "    \n",
    "print(\"Mean of Traning data set Image \", np.mean(X_train_gray))\n",
    "print(\"Mean of Validation data set Image\", np.mean(X_valid_gray))\n",
    "print(\"Mean of Test data set Image\", np.mean(X_test_gray))\n",
    "\n",
    "# Plotting Randomly normalized Grayscale image of Training data set\n",
    "index = random.randint(0, len(X_train))\n",
    "\n",
    "fig, axs = plt.subplots(1,2, figsize=(10, 2))\n",
    "axs[0].imshow(X_train[index].squeeze())\n",
    "axs[0].set_title('Original Image')\n",
    "axs[1].imshow(X_train_gray[index].squeeze(), cmap='gray')\n",
    "axs[1].set_title('Normalized Grayscale image')\n"
   ]
  },
  {
   "cell_type": "markdown",
   "metadata": {
    "deletable": true,
    "editable": true
   },
   "source": [
    "### Image Augumentation\n",
    "Creating Four function of Augumentating the dataset :  random_translate, random_scale, random_warp, and random_brightness"
   ]
  },
  {
   "cell_type": "code",
   "execution_count": 7,
   "metadata": {
    "collapsed": false,
    "deletable": true,
    "editable": true
   },
   "outputs": [
    {
     "name": "stdout",
     "output_type": "stream",
     "text": [
      "Input Image Shape : (32, 32, 1)  Output Translated image shape (32, 32, 1)\n",
      "Input Image Shape : (32, 32, 1)  Output Scaled image Shape  (32, 32, 1)\n",
      "Input Image Shape : (32, 32, 1)  Output Wrap image shape (32, 32, 1)\n",
      "Input Image Shape : (32, 32, 1)  Output Brightness image Shape (32, 32, 1)\n"
     ]
    },
    {
     "data": {
      "image/png": "[encoded data removed]",
      "text/plain": [
       "<matplotlib.figure.Figure at 0x7f7b85f3a7b8>"
      ]
     },
     "metadata": {},
     "output_type": "display_data"
    },
    {
     "data": {
      "image/png": "[encoded data removed]",
      "text/plain": [
       "<matplotlib.figure.Figure at 0x7f7b3b441358>"
      ]
     },
     "metadata": {},
     "output_type": "display_data"
    },
    {
     "data": {
      "image/png": "[encoded data removed]",
      "text/plain": [
       "<matplotlib.figure.Figure at 0x7f7b3b3d0898>"
      ]
     },
     "metadata": {},
     "output_type": "display_data"
    },
    {
     "data": {
      "image/png": "[encoded data removed]",
      "text/plain": [
       "<matplotlib.figure.Figure at 0x7f7b3b3af908>"
      ]
     },
     "metadata": {},
     "output_type": "display_data"
    }
   ],
   "source": [
    "# Random Transalate \n",
    "import cv2\n",
    "\n",
    "def random_image_translate(img):\n",
    "    width,height,_ = img.shape\n",
    "    \n",
    "    # allow translation up to px pixels in x and y directions\n",
    "    px = 2\n",
    "    x, y = np.random.randint(-px,px,2)\n",
    "    Mat = np.float32([[1,0,x],[0,1,y]])\n",
    "    destination = cv2.warpAffine(img,Mat,(height,width))\n",
    "    destination = destination[:,:,np.newaxis]\n",
    "    return destination\n",
    "\n",
    "# Plot Image. Original Vs Translate\n",
    "\n",
    "test_img = X_train_gray[600]\n",
    "test_dst = random_image_translate(test_img)\n",
    "fig, axs = plt.subplots(1,2, figsize=(10, 3))\n",
    "axs[0].imshow(test_img.squeeze(), cmap='gray')\n",
    "axs[0].set_title('Original')\n",
    "axs[1].imshow(test_dst.squeeze(), cmap='gray')\n",
    "axs[1].set_title('Translated')\n",
    "print(\"Input Image Shape :\", test_img.shape, \" Output Translated image shape\", test_dst.shape)\n",
    "\n",
    "# Random Scaling\n",
    "def random_image_scaling(img):   \n",
    "    width,height,_ = img.shape\n",
    "    # Transform the limit\n",
    "    px = np.random.randint(-2,2)\n",
    "    # End locations of Image\n",
    "    pts1 = np.float32([[px, px],[width-px, px],[px, height-px],[width-px, height-px]])\n",
    "    # Starting locations of image \n",
    "    pts2 = np.float32([[0,0], [width,0], [0, height], [width, height]])\n",
    "    M = cv2.getPerspectiveTransform(pts1,pts2)\n",
    "    destination = cv2.warpPerspective(img,M,(width, height))\n",
    "    destination = destination[:,:,np.newaxis]\n",
    "    return destination\n",
    "\n",
    "#Plot Image. Original Vs Scaled\n",
    "test_dst = random_image_scaling(test_img)    \n",
    "fig, axs = plt.subplots(1,2, figsize=(10, 3))\n",
    "axs[0].imshow(test_img.squeeze(), cmap='gray')\n",
    "axs[0].set_title('Original Image')\n",
    "axs[1].imshow(test_dst.squeeze(), cmap='gray')\n",
    "axs[1].set_title('scaled Image')\n",
    "print(\"Input Image Shape :\", test_img.shape, \" Output Scaled image Shape \", test_dst.shape)\n",
    "\n",
    "\n",
    "# Random Wrap\n",
    "def random_image_warp(img):\n",
    "    \n",
    "    width,height,_ = img.shape\n",
    "    # random scaling coefficients\n",
    "    rndx = np.random.rand(3) - 0.5\n",
    "    rndx *= height * 0.06   # this coefficient determines the degree of warping\n",
    "    rndy = np.random.rand(3) - 0.5\n",
    "    rndy *= width * 0.06\n",
    "    # 3 starting points for transform, 1/4 way from edges\n",
    "    x1 = height/4\n",
    "    x2 = 3*height/4\n",
    "    y1 = width/4\n",
    "    y2 = 3*width/4\n",
    "    pts1 = np.float32([[y1,x1],[y2,x1],[y1,x2]])\n",
    "    pts2 = np.float32([[y1+rndy[0],x1+rndx[0]], [y2+rndy[1],x1+rndx[1]], [y1+rndy[2],x2+rndx[2]]])\n",
    "    Mat = cv2.getAffineTransform(pts1,pts2)\n",
    "    destination = cv2.warpAffine(img,Mat,(height,width))\n",
    "    destination = destination[:,:,np.newaxis]\n",
    "    return destination\n",
    "\n",
    "# Plot Image. Original Vs Wrap Image\n",
    "\n",
    "test_dst = random_image_warp(test_img)\n",
    "fig, axs = plt.subplots(1,2, figsize=(10, 3))\n",
    "axs[0].imshow(test_img.squeeze(), cmap='gray')\n",
    "axs[0].set_title('Original Image')\n",
    "axs[1].imshow(test_dst.squeeze(), cmap='gray')\n",
    "axs[1].set_title('Warped Image')\n",
    "print(\"Input Image Shape :\", test_img.shape, \" Output Wrap image shape\", test_dst.shape)\n",
    "\n",
    "\n",
    "# Random Brightness\n",
    "def random_image_brightness(img):\n",
    "    shifted = img + 1.0   # shift to (0,2) range\n",
    "    img_max_value = max(shifted.flatten())\n",
    "    max_coef = 2.0/img_max_value\n",
    "    min_coef = max_coef - 0.1\n",
    "    coef = np.random.uniform(min_coef, max_coef)\n",
    "    destination = shifted * coef - 1.0\n",
    "    return destination\n",
    "\n",
    "test_dst = random_image_brightness(test_img)\n",
    "\n",
    "# Plot Image. Original Vs Brignt adjusted Image\n",
    "\n",
    "fig, axs = plt.subplots(1,2, figsize=(10, 3))\n",
    "axs[0].imshow(test_img.squeeze(), cmap='gray')\n",
    "axs[0].set_title('Original Image')\n",
    "axs[1].axis('off')\n",
    "axs[1].imshow(test_dst.squeeze(), cmap='gray')\n",
    "axs[1].set_title('Brightness adjusted Image')\n",
    "\n",
    "print(\"Input Image Shape :\", test_img.shape, \" Output Brightness image Shape\", test_dst.shape)"
   ]
  },
  {
   "cell_type": "markdown",
   "metadata": {
    "deletable": true,
    "editable": true
   },
   "source": [
    "### New Dataset After Augumentation"
   ]
  },
  {
   "cell_type": "code",
   "execution_count": 8,
   "metadata": {
    "collapsed": false,
    "deletable": true,
    "editable": true
   },
   "outputs": [
    {
     "name": "stdout",
     "output_type": "stream",
     "text": [
      "X, y shapes: (34799, 32, 32, 1) 34799\n",
      "X, y shapes: (46480, 32, 32, 1) (46480,)\n"
     ]
    }
   ],
   "source": [
    "#Adding Dataset after Augmenting\n",
    "\n",
    "print('X, y shapes:', X_train_gray.shape, y_train.shape[0])\n",
    "\n",
    "input_indices = []\n",
    "output_indices = []\n",
    "\n",
    "for class_n in range(n_classes):\n",
    "    class_indices = np.where(y_train == class_n)\n",
    "    n_samples = len(class_indices[0])\n",
    "    if n_samples < 800:\n",
    "        for i in range(800 - n_samples):\n",
    "            input_indices.append(class_indices[0][i%n_samples])\n",
    "            output_indices.append(X_train_gray.shape[0])\n",
    "            new_img = X_train_gray[class_indices[0][i % n_samples]]\n",
    "            new_img = random_image_translate(random_image_scaling(random_image_warp(random_image_brightness(new_img))))\n",
    "            X_train_gray = np.concatenate((X_train_gray, [new_img]), axis=0)\n",
    "            y_train = np.concatenate((y_train, [class_n]), axis=0)\n",
    "            \n",
    "print('X, y shapes:', X_train_gray.shape, y_train.shape)"
   ]
  },
  {
   "cell_type": "code",
   "execution_count": 9,
   "metadata": {
    "collapsed": false,
    "deletable": true,
    "editable": true
   },
   "outputs": [
    {
     "name": "stdout",
     "output_type": "stream",
     "text": [
      "Size of new training data set after Augumenting : (46480, 32, 32, 1) (46480,)\n",
      "Size of Validation data set : (4410, 32, 32, 1) (4410,)\n"
     ]
    },
    {
     "data": {
      "image/png": "[encoded data removed]",
      "text/plain": [
       "<matplotlib.figure.Figure at 0x7f7b85e6b630>"
      ]
     },
     "metadata": {},
     "output_type": "display_data"
    }
   ],
   "source": [
    "# New Histogram of Traffic Sign Id and no of Training Example Available Data Augmentation\n",
    "\n",
    "unique, counts = np.unique(y_train, return_counts=True)\n",
    "print('Size of new training data set after Augumenting :', X_train_gray.shape , y_train.shape)\n",
    "print('Size of Validation data set :', X_valid_gray.shape , y_valid.shape)\n",
    "y_pos= np.arange(len(unique))\n",
    "plt.figure(figsize=(15,5))\n",
    "plt.bar(unique, counts, align='center', alpha=0.5)\n",
    "plt.xticks(y_pos, unique)\n",
    "plt.xlabel('Unique Traffic Sign IDs')\n",
    "plt.ylabel('No of Training Example After Data Agumentation')\n",
    "plt.show()"
   ]
  },
  {
   "cell_type": "code",
   "execution_count": 10,
   "metadata": {
    "collapsed": false,
    "deletable": true,
    "editable": true
   },
   "outputs": [
    {
     "name": "stdout",
     "output_type": "stream",
     "text": [
      "(46480, 32, 32, 1)\n",
      "(46480,)\n",
      "(4410, 32, 32, 1)\n",
      "(4410,)\n"
     ]
    }
   ],
   "source": [
    "# Copy the Data into different Array\n",
    "X_train_to_work = X_train_gray\n",
    "y_train_to_work = y_train\n",
    "X_valid_to_work = X_valid_gray\n",
    "y_valid_to_work = y_valid\n",
    "\n",
    "print(X_train_to_work.shape)\n",
    "print(y_train_to_work.shape)\n",
    "\n",
    "print(X_valid_to_work.shape)\n",
    "print(y_valid_to_work.shape)"
   ]
  },
  {
   "cell_type": "code",
   "execution_count": 11,
   "metadata": {
    "collapsed": false,
    "deletable": true,
    "editable": true
   },
   "outputs": [
    {
     "name": "stdout",
     "output_type": "stream",
     "text": [
      "After splitting the data set :\n",
      "(41832, 32, 32, 1) (41832,)\n",
      "(4648, 32, 32, 1) (4648, 32, 32, 1)\n",
      "Original Validation data : (4410, 32, 32, 1) (4410,)\n",
      "New Validation Data set after concatentation (9058, 32, 32, 1) (9058,)\n"
     ]
    }
   ],
   "source": [
    "# Shuffing and add Validation data by spiliting 10% Training data Set and add in Validation data set\n",
    "from sklearn.utils import shuffle\n",
    "from sklearn.model_selection import train_test_split\n",
    "X_train_to_work, y_train_to_work = shuffle(X_train_to_work, y_train_to_work)\n",
    "X_train_to_work, X_temp_valid, y_train_to_work, y_temp_valid = train_test_split(X_train_to_work, y_train_to_work, \n",
    "                                                             test_size=0.10, random_state=42)\n",
    "print(\"After splitting the data set :\")\n",
    "print(X_train_to_work.shape , y_train_to_work.shape )\n",
    "print(X_temp_valid.shape , X_temp_valid.shape )\n",
    "\n",
    "print(\"Original Validation data :\" , X_valid_to_work.shape , y_valid_to_work.shape)\n",
    "\n",
    "# Adding Additional Validation data set i\n",
    "X_valid_to_work = np.concatenate((X_valid_to_work, X_temp_valid) , axis=0)\n",
    "y_valid_to_work = np.concatenate((y_valid_to_work, y_temp_valid) , axis=0)\n",
    "print(\"New Validation Data set after concatentation\" , X_valid_to_work.shape, y_valid_to_work.shape)\n",
    "\n"
   ]
  },
  {
   "cell_type": "code",
   "execution_count": 12,
   "metadata": {
    "collapsed": false,
    "deletable": true,
    "editable": true
   },
   "outputs": [
    {
     "name": "stdout",
     "output_type": "stream",
     "text": [
      "Final Data Set to work\n",
      "Training Data Set (41832, 32, 32, 1) (41832,)\n",
      "Validation Data Set (9058, 32, 32, 1) (9058,)\n"
     ]
    }
   ],
   "source": [
    "#Final Data Set to work \n",
    "print(\"Final Data Set to work\")\n",
    "print(\"Training Data Set\", X_train_to_work.shape , y_train_to_work.shape)\n",
    "print(\"Validation Data Set\", X_valid_to_work.shape, y_valid_to_work.shape)"
   ]
  },
  {
   "cell_type": "markdown",
   "metadata": {
    "deletable": true,
    "editable": true
   },
   "source": [
    "### Model Architecture"
   ]
  },
  {
   "cell_type": "markdown",
   "metadata": {
    "deletable": true,
    "editable": true
   },
   "source": [
    "### Setup TensorFlow\n",
    "\n",
    "The EPOCH and BATCH_SIZE values affect the training speed and model accuracy."
   ]
  },
  {
   "cell_type": "code",
   "execution_count": 13,
   "metadata": {
    "collapsed": true,
    "deletable": true,
    "editable": true
   },
   "outputs": [],
   "source": [
    "import tensorflow as tf\n",
    "\n",
    "EPOCHS = 60\n",
    "BATCH_SIZE = 64"
   ]
  },
  {
   "cell_type": "markdown",
   "metadata": {
    "deletable": true,
    "editable": true
   },
   "source": [
    "### Implement the Multi Scale CNN network"
   ]
  },
  {
   "cell_type": "markdown",
   "metadata": {
    "deletable": true,
    "editable": true
   },
   "source": [
    "Implement the [LeNet-5](http://yann.lecun.com/exdb/lenet/) neural network architecture. This will be best fit for Traffic sign classifier.\n",
    "\n",
    "I decided to use Multi-Scale Convolutional Networks, which was present by [Pierre Sermanet / Yann LeCun paper](http://yann.lecun.com/exdb/publis/pdf/sermanet-ijcnn-11.pdf). This Architecture has 4 layers : 3 convolutional layers for feature extraction and one fully connected layer as a classifier.\n",
    "\n",
    "### Input\n",
    "The architecture accepts a 32x32xC image as input, where C is the number of color channels. Since Traffic Sign images are coverted into gray, C is 1 in this case.\n",
    "\n",
    "### Architecture\n",
    "Architecture in detail explained in write up. In Summary\n",
    "\n",
    "a) Convolution layer : 3\n",
    "b) Fully connected Layer : 1\n",
    "c) Dropout before the output/logits layer\n",
    "\n",
    "\n",
    "### Output\n",
    "Return the result of the 2nd fully connected layer."
   ]
  },
  {
   "cell_type": "code",
   "execution_count": 14,
   "metadata": {
    "collapsed": false,
    "deletable": true,
    "editable": true
   },
   "outputs": [],
   "source": [
    "from tensorflow.contrib.layers import flatten\n",
    "\n",
    "# Define probability to keep units\n",
    "keep_prob = tf.placeholder(tf.float32)\n",
    "\n",
    "\n",
    "# Arguments used for tf.truncated_normal, randomly defines variables for the weights and biases for each layer\n",
    "mu = 0\n",
    "sigma = 0.1\n",
    "    \n",
    "#Define weight and bias \n",
    "    \n",
    "weights = {\n",
    "    'wc1': tf.Variable(tf.truncated_normal([5,5,1,32], mean = mu , stddev = sigma)),# for gray image\n",
    "    'wc2': tf.Variable(tf.truncated_normal([5, 5, 32, 64], mean = mu , stddev = sigma)),\n",
    "    'wc3': tf.Variable(tf.truncated_normal([5, 5, 64, 128], mean = mu , stddev = sigma)),\n",
    "    'wd1': tf.Variable(tf.truncated_normal([3584, 1024], mean = mu , stddev = sigma)),\n",
    "    'out': tf.Variable(tf.truncated_normal([1024, 43], mean = mu , stddev = sigma))}\n",
    "\n",
    "biases = {\n",
    "    'bc1': tf.Variable(tf.truncated_normal([32], mean = mu , stddev = sigma)),\n",
    "    'bc2': tf.Variable(tf.truncated_normal([64], mean = mu , stddev = sigma)),\n",
    "    'bc3': tf.Variable(tf.truncated_normal([128], mean = mu , stddev = sigma)),\n",
    "    'bd1': tf.Variable(tf.truncated_normal([1024], mean = mu , stddev = sigma)),\n",
    "    'out': tf.Variable(tf.truncated_normal([43], mean = mu , stddev = sigma))}\n",
    "\n",
    "# Define the conv2d function\n",
    "\n",
    "def conv2d(x, W, b, strides=1):\n",
    "    x = tf.nn.conv2d(x, W, strides=[1, strides, strides, 1], padding='SAME')\n",
    "    x = tf.nn.bias_add(x, b)\n",
    "    return tf.nn.relu(x)\n",
    "\n",
    "# define the max pooling function\n",
    "\n",
    "def maxpool2d(x, k):\n",
    "    return tf.nn.max_pool(\n",
    "        x,\n",
    "        ksize=[1, k, k, 1],\n",
    "        strides=[1, k, k, 1],\n",
    "        padding='SAME')\n",
    "\n",
    "# define the LeNet Model for Traffic sign classifier\n",
    "def LeNet(x):    \n",
    "    \n",
    "    # Layer 1: Convolutional. Input = 32x32x1. Output = 28x28x32. and relu activation\n",
    "    conv1 = conv2d(x, weights['wc1'], biases['bc1'])\n",
    "    \n",
    "    # Pooling. Input = 28x28x32. Output = 14x14x32.\n",
    "    conv1 = maxpool2d(conv1, k=2)\n",
    "    \n",
    "    #Layer 2: Convolutional. Input = 14x14x32.  Output = 10x10x64 and relu activation\n",
    "    conv2 = conv2d(conv1, weights['wc2'], biases['bc2'])\n",
    "\n",
    "    # Pooling. Input = 10x10x64. Output = 5x5x64.\n",
    "    conv2 = maxpool2d(conv2, k=2)\n",
    "     \n",
    "    #Layer 3: Convolutional. Input = 5x5x64.  Output = 4x4x128 and relu activation\n",
    "    conv3 = conv2d(conv2, weights['wc3'], biases['bc3'])\n",
    "    \n",
    "    # Pooling. Input = 1x1x128. Output = 1x1x128.\n",
    "    conv3 = maxpool2d(conv3, k=2)\n",
    "    \n",
    "    print('conv3 layer shape:', conv3)\n",
    "    \n",
    "    # Flatten of conv3 layer input = 4x4x128. Output = 2048.\n",
    "    pool1 = flatten(conv3)\n",
    "    print('pool1  shape:', pool1)\n",
    "    \n",
    "    # 1 more max pool of size and stride =2 , Input : 5X5X64 output = 2X2X64 \n",
    "    conv2 = maxpool2d(conv2, k=2)\n",
    "    # Flatten layer updated conv2 : input = 2x2x64 , Output = 256\n",
    "    pool2 = flatten(conv2)\n",
    "    print('pool2  shape:', pool2)\n",
    "    \n",
    "    # 1 more max pool of size and stride =4 , Input : 14x14x32 output = 3X3X64 \n",
    "    conv1 = maxpool2d(conv1, k=4)\n",
    "    # Flatten layer updated conv2 : input = 3X3X64  , Output = 576\n",
    "    pool3 = flatten(conv1)\n",
    "    \n",
    "    print('pool3  shape:', pool3)\n",
    "    \n",
    "    flattened = tf.concat(1, [pool1, pool2, pool3])\n",
    "    \n",
    "    print('flattened  shape:', flattened)\n",
    "    \n",
    "    #print(fc0)\n",
    "    \n",
    "    # Layer 4: Fully Connected. Input = 960. Output = 1024.\n",
    "    fc1 = tf.add(tf.matmul(flattened, weights['wd1']), biases['bd1'])\n",
    "    \n",
    "     # Activation.\n",
    "    fc1 = tf.nn.relu(fc1)\n",
    "    \n",
    "    # Adding Dropout \n",
    "    fc1 = tf.nn.dropout(fc1, keep_prob)\n",
    "\n",
    "    # Ouptput Layer Input = 1024. Output = 43.\n",
    "    logits = tf.add(tf.matmul(fc1, weights['out']), biases['out'])\n",
    "    return logits"
   ]
  },
  {
   "cell_type": "markdown",
   "metadata": {
    "deletable": true,
    "editable": true
   },
   "source": [
    "## Features and Labels\n",
    "Train LeNet to classify Traffic Sign data.\n",
    "\n",
    "`x` is a placeholder for a batch of input images.\n",
    "`y` is a placeholder for a batch of output labels.\n"
   ]
  },
  {
   "cell_type": "code",
   "execution_count": 15,
   "metadata": {
    "collapsed": false,
    "deletable": true,
    "editable": true
   },
   "outputs": [],
   "source": [
    "x = tf.placeholder(tf.float32, (None, 32, 32, 1)) # for gray image\n",
    "y = tf.placeholder(tf.int32, (None))\n",
    "one_hot_y = tf.one_hot(y, 43)"
   ]
  },
  {
   "cell_type": "markdown",
   "metadata": {
    "deletable": true,
    "editable": true
   },
   "source": [
    "## Training Pipeline\n",
    "Create a training pipeline that uses the model to classify Traffic Sign data.\n"
   ]
  },
  {
   "cell_type": "code",
   "execution_count": 16,
   "metadata": {
    "collapsed": false,
    "deletable": true,
    "editable": true
   },
   "outputs": [
    {
     "name": "stdout",
     "output_type": "stream",
     "text": [
      "conv3 layer shape: Tensor(\"MaxPool_2:0\", shape=(?, 4, 4, 128), dtype=float32)\n",
      "pool1  shape: Tensor(\"Flatten/Reshape:0\", shape=(?, 2048), dtype=float32)\n",
      "pool2  shape: Tensor(\"Flatten_1/Reshape:0\", shape=(?, 1024), dtype=float32)\n",
      "pool3  shape: Tensor(\"Flatten_2/Reshape:0\", shape=(?, 512), dtype=float32)\n",
      "flattened  shape: Tensor(\"concat:0\", shape=(?, 3584), dtype=float32)\n"
     ]
    }
   ],
   "source": [
    "rate = 0.001\n",
    "beta = 0.001\n",
    "\n",
    "logits = LeNet(x)\n",
    "cross_entropy = tf.nn.softmax_cross_entropy_with_logits(logits, one_hot_y)\n",
    "loss_operation = tf.reduce_mean(cross_entropy)\n",
    "optimizer = tf.train.AdamOptimizer(learning_rate = rate)\n",
    "training_operation = optimizer.minimize(loss_operation)\n"
   ]
  },
  {
   "cell_type": "markdown",
   "metadata": {
    "deletable": true,
    "editable": true
   },
   "source": [
    "### Train, Validate and Test the Model"
   ]
  },
  {
   "cell_type": "markdown",
   "metadata": {
    "deletable": true,
    "editable": true
   },
   "source": [
    "A validation set can be used to assess how well the model is performing. A low accuracy on the training and validation\n",
    "sets imply underfitting. A high accuracy on the test set but low accuracy on the validation set implies overfitting."
   ]
  },
  {
   "cell_type": "markdown",
   "metadata": {
    "deletable": true,
    "editable": true
   },
   "source": [
    "## Model Evaluation\n",
    "Evaluate how well the loss and accuracy of the model for a given dataset."
   ]
  },
  {
   "cell_type": "code",
   "execution_count": 17,
   "metadata": {
    "collapsed": false,
    "deletable": true,
    "editable": true
   },
   "outputs": [],
   "source": [
    "correct_prediction = tf.equal(tf.argmax(logits, 1), tf.argmax(one_hot_y, 1))\n",
    "accuracy_operation = tf.reduce_mean(tf.cast(correct_prediction, tf.float32))\n",
    "saver = tf.train.Saver()\n",
    "\n",
    "def evaluate(X_data, y_data):\n",
    "    num_examples = len(X_data)\n",
    "    total_accuracy = 0\n",
    "    sess = tf.get_default_session()\n",
    "    for offset in range(0, num_examples, BATCH_SIZE):\n",
    "        batch_x, batch_y = X_data[offset:offset+BATCH_SIZE], y_data[offset:offset+BATCH_SIZE]\n",
    "        accuracy = sess.run(accuracy_operation, feed_dict={x: batch_x, y: batch_y, keep_prob: 1})\n",
    "        total_accuracy += (accuracy * len(batch_x))\n",
    "    return total_accuracy / num_examples"
   ]
  },
  {
   "cell_type": "markdown",
   "metadata": {
    "deletable": true,
    "editable": true
   },
   "source": [
    "## Train the Model\n",
    "Run the training data through the training pipeline to train the model.\n",
    "\n",
    "Before each epoch, shuffle the training set.\n",
    "\n",
    "After each epoch, measure the loss and accuracy of the validation set.\n",
    "\n",
    "Save the model after training."
   ]
  },
  {
   "cell_type": "code",
   "execution_count": 18,
   "metadata": {
    "collapsed": false,
    "deletable": true,
    "editable": true
   },
   "outputs": [
    {
     "name": "stdout",
     "output_type": "stream",
     "text": [
      "Training...\n",
      "\n",
      "EPOCH 1 ...\n",
      "Validation Accuracy = 0.852\n",
      "\n",
      "EPOCH 2 ...\n",
      "Validation Accuracy = 0.922\n",
      "\n",
      "EPOCH 3 ...\n",
      "Validation Accuracy = 0.935\n",
      "\n",
      "EPOCH 4 ...\n",
      "Validation Accuracy = 0.949\n",
      "\n",
      "EPOCH 5 ...\n",
      "Validation Accuracy = 0.958\n",
      "\n",
      "EPOCH 6 ...\n",
      "Validation Accuracy = 0.960\n",
      "\n",
      "EPOCH 7 ...\n",
      "Validation Accuracy = 0.967\n",
      "\n",
      "EPOCH 8 ...\n",
      "Validation Accuracy = 0.960\n",
      "\n",
      "EPOCH 9 ...\n",
      "Validation Accuracy = 0.975\n",
      "\n",
      "EPOCH 10 ...\n",
      "Validation Accuracy = 0.971\n",
      "\n",
      "EPOCH 11 ...\n",
      "Validation Accuracy = 0.966\n",
      "\n",
      "EPOCH 12 ...\n",
      "Validation Accuracy = 0.973\n",
      "\n",
      "EPOCH 13 ...\n",
      "Validation Accuracy = 0.964\n",
      "\n",
      "EPOCH 14 ...\n",
      "Validation Accuracy = 0.965\n",
      "\n",
      "EPOCH 15 ...\n",
      "Validation Accuracy = 0.969\n",
      "\n",
      "EPOCH 16 ...\n",
      "Validation Accuracy = 0.974\n",
      "\n",
      "EPOCH 17 ...\n",
      "Validation Accuracy = 0.965\n",
      "\n",
      "EPOCH 18 ...\n",
      "Validation Accuracy = 0.971\n",
      "\n",
      "EPOCH 19 ...\n",
      "Validation Accuracy = 0.971\n",
      "\n",
      "EPOCH 20 ...\n",
      "Validation Accuracy = 0.974\n",
      "\n",
      "EPOCH 21 ...\n",
      "Validation Accuracy = 0.978\n",
      "\n",
      "EPOCH 22 ...\n",
      "Validation Accuracy = 0.969\n",
      "\n",
      "EPOCH 23 ...\n",
      "Validation Accuracy = 0.980\n",
      "\n",
      "EPOCH 24 ...\n",
      "Validation Accuracy = 0.977\n",
      "\n",
      "EPOCH 25 ...\n",
      "Validation Accuracy = 0.980\n",
      "\n",
      "EPOCH 26 ...\n",
      "Validation Accuracy = 0.975\n",
      "\n",
      "EPOCH 27 ...\n",
      "Validation Accuracy = 0.974\n",
      "\n",
      "EPOCH 28 ...\n",
      "Validation Accuracy = 0.980\n",
      "\n",
      "EPOCH 29 ...\n",
      "Validation Accuracy = 0.967\n",
      "\n",
      "EPOCH 30 ...\n",
      "Validation Accuracy = 0.978\n",
      "\n",
      "EPOCH 31 ...\n",
      "Validation Accuracy = 0.982\n",
      "\n",
      "EPOCH 32 ...\n",
      "Validation Accuracy = 0.981\n",
      "\n",
      "EPOCH 33 ...\n",
      "Validation Accuracy = 0.977\n",
      "\n",
      "EPOCH 34 ...\n",
      "Validation Accuracy = 0.978\n",
      "\n",
      "EPOCH 35 ...\n",
      "Validation Accuracy = 0.971\n",
      "\n",
      "EPOCH 36 ...\n",
      "Validation Accuracy = 0.979\n",
      "\n",
      "EPOCH 37 ...\n",
      "Validation Accuracy = 0.978\n",
      "\n",
      "EPOCH 38 ...\n",
      "Validation Accuracy = 0.975\n",
      "\n",
      "EPOCH 39 ...\n",
      "Validation Accuracy = 0.965\n",
      "\n",
      "EPOCH 40 ...\n",
      "Validation Accuracy = 0.971\n",
      "\n",
      "EPOCH 41 ...\n",
      "Validation Accuracy = 0.979\n",
      "\n",
      "EPOCH 42 ...\n",
      "Validation Accuracy = 0.980\n",
      "\n",
      "EPOCH 43 ...\n",
      "Validation Accuracy = 0.977\n",
      "\n",
      "EPOCH 44 ...\n",
      "Validation Accuracy = 0.977\n",
      "\n",
      "EPOCH 45 ...\n",
      "Validation Accuracy = 0.976\n",
      "\n",
      "EPOCH 46 ...\n",
      "Validation Accuracy = 0.981\n",
      "\n",
      "EPOCH 47 ...\n",
      "Validation Accuracy = 0.983\n",
      "\n",
      "EPOCH 48 ...\n",
      "Validation Accuracy = 0.980\n",
      "\n",
      "EPOCH 49 ...\n",
      "Validation Accuracy = 0.984\n",
      "\n",
      "EPOCH 50 ...\n",
      "Validation Accuracy = 0.973\n",
      "\n",
      "EPOCH 51 ...\n",
      "Validation Accuracy = 0.983\n",
      "\n",
      "EPOCH 52 ...\n",
      "Validation Accuracy = 0.978\n",
      "\n",
      "EPOCH 53 ...\n",
      "Validation Accuracy = 0.978\n",
      "\n",
      "EPOCH 54 ...\n",
      "Validation Accuracy = 0.986\n",
      "\n",
      "EPOCH 55 ...\n",
      "Validation Accuracy = 0.983\n",
      "\n",
      "EPOCH 56 ...\n",
      "Validation Accuracy = 0.977\n",
      "\n",
      "EPOCH 57 ...\n",
      "Validation Accuracy = 0.974\n",
      "\n",
      "EPOCH 58 ...\n",
      "Validation Accuracy = 0.981\n",
      "\n",
      "EPOCH 59 ...\n",
      "Validation Accuracy = 0.978\n",
      "\n",
      "EPOCH 60 ...\n",
      "Validation Accuracy = 0.974\n",
      "\n",
      "Model saved\n"
     ]
    }
   ],
   "source": [
    "# Final Data set after image augemtation and split \n",
    "# Training Data Set : X_train_to_work, y_train_to_work \n",
    "# Validation Data set : X_valid_to_work, y_valid_to_work\n",
    "val_acc =[]\n",
    "with tf.Session() as sess:\n",
    "    sess.run(tf.global_variables_initializer())\n",
    "    #num_examples = len(X_train)\n",
    "    #num_examples = len(X_train_gray) # for gray scale image\n",
    "    num_examples = len(X_train_to_work)\n",
    "    print(\"Training...\")\n",
    "    print()\n",
    "    for i in range(EPOCHS):\n",
    "        X_train_to_work, y_train_to_work = shuffle(X_train_to_work, y_train_to_work)\n",
    "        for offset in range(0, num_examples, BATCH_SIZE):\n",
    "            end = offset + BATCH_SIZE\n",
    "            batch_x, batch_y = X_train_to_work[offset:end], y_train_to_work[offset:end] # for extended gray image training data\n",
    "            sess.run(training_operation, feed_dict={x: batch_x, y: batch_y, keep_prob: 0.65})\n",
    "            \n",
    "        validation_accuracy = evaluate(X_valid_to_work, y_valid_to_work) # for gray image\n",
    "        val_acc = np.append(val_acc, validation_accuracy)\n",
    "        print(\"EPOCH {} ...\".format(i+1))\n",
    "        print(\"Validation Accuracy = {:.3f}\".format(validation_accuracy))\n",
    "        print()\n",
    "        \n",
    "    saver.save(sess, './traffic')\n",
    "    print(\"Model saved\")\n",
    "    "
   ]
  },
  {
   "cell_type": "code",
   "execution_count": 19,
   "metadata": {
    "collapsed": false,
    "deletable": true,
    "editable": true
   },
   "outputs": [
    {
     "data": {
      "image/png": "[encoded data removed]",
      "text/plain": [
       "<matplotlib.figure.Figure at 0x7f7b1def5b70>"
      ]
     },
     "metadata": {},
     "output_type": "display_data"
    }
   ],
   "source": [
    "# Plotting the accuracy Vs Epoch Graph\n",
    "x_epoch = []\n",
    "for i in range(len(val_acc)):\n",
    "        #x_epoch = np.array([i+1])\n",
    "        x_epoch.append(i+1)\n",
    "plt.xlabel('EPOCHS')\n",
    "plt.ylabel('Accuracy')\n",
    "plt.plot(x_epoch,val_acc)\n",
    "plt.show()"
   ]
  },
  {
   "cell_type": "markdown",
   "metadata": {
    "deletable": true,
    "editable": true
   },
   "source": [
    "### Evalute the Model on Test Data Set"
   ]
  },
  {
   "cell_type": "code",
   "execution_count": 20,
   "metadata": {
    "collapsed": false,
    "deletable": true,
    "editable": true
   },
   "outputs": [
    {
     "name": "stdout",
     "output_type": "stream",
     "text": [
      "Training data set size : (12630, 32, 32, 1) [38 11  5 ..., 10 33 20]\n",
      "Test Accuracy = 0.945\n"
     ]
    }
   ],
   "source": [
    "print(\"Training data set size :\", X_test_gray.shape, y_test)\n",
    "with tf.Session() as sess:\n",
    "    saver.restore(sess, tf.train.latest_checkpoint('.'))\n",
    "    test_accuracy = evaluate(X_test_gray, y_test)\n",
    "    print(\"Test Accuracy = {:.3f}\".format(test_accuracy))"
   ]
  },
  {
   "cell_type": "markdown",
   "metadata": {
    "deletable": true,
    "editable": true
   },
   "source": [
    "---\n",
    "\n",
    "## Step 3: Test a Model on New Images\n",
    "\n",
    "To give yourself more insight into how your model is working, download at least five pictures of German traffic signs from the web and use your model to predict the traffic sign type.\n",
    "\n",
    "You may find `signnames.csv` useful as it contains mappings from the class id (integer) to the actual sign name."
   ]
  },
  {
   "cell_type": "markdown",
   "metadata": {
    "deletable": true,
    "editable": true
   },
   "source": [
    "### Load and Output the Images"
   ]
  },
  {
   "cell_type": "code",
   "execution_count": 21,
   "metadata": {
    "collapsed": false,
    "deletable": true,
    "editable": true
   },
   "outputs": [
    {
     "name": "stdout",
     "output_type": "stream",
     "text": [
      "Input Image Shape : (5, 32, 32, 3)\n",
      "Ouput Image shape after Gray Scale and normalization:  (5, 32, 32, 1)\n",
      "My German Sign Images:\n"
     ]
    },
    {
     "data": {
      "image/png": "[encoded data removed]",
      "text/plain": [
       "<matplotlib.figure.Figure at 0x7f7b1dee54a8>"
      ]
     },
     "metadata": {},
     "output_type": "display_data"
    }
   ],
   "source": [
    "import cv2\n",
    "import numpy as np\n",
    "import os\n",
    "import csv\n",
    "from itertools import islice\n",
    "\n",
    "my_images = []\n",
    "my_images_org =[]\n",
    "my_labels = [3,22,27,38,12]\n",
    "signnames = {}\n",
    "\n",
    "# Read the signnames and store in dictonary for future use \n",
    "\n",
    "with open('signnames.csv') as file:\n",
    "    reader=csv.reader(file, skipinitialspace=True, quotechar=\"'\")\n",
    "    for row in islice(reader, 1, None):\n",
    "        signnames[int(row[0])]=row[1:]\n",
    "\n",
    "# Read the image and convert into format which need to given to neural net\n",
    "\n",
    "for i, img in enumerate(os.listdir('My_Found_Traffic_Sign/')):\n",
    "    image = cv2.imread('My_Found_Traffic_Sign/' + img)\n",
    "    image_resize = cv2.resize(image,(32,32))\n",
    "    my_images_org.append(image_resize)\n",
    "    image_norm_gray = image_gray_and_norm(image_resize)\n",
    "    my_images.append(image_norm_gray)\n",
    "    \n",
    "my_images = np.array(my_images)\n",
    "my_images_org = np.array(my_images_org)\n",
    "my_images = np.expand_dims(my_images, axis=3)\n",
    "print(\"Input Image Shape :\", my_images_org.shape)\n",
    "print(\"Ouput Image shape after Gray Scale and normalization: \", my_images.shape )\n",
    "print(\"My German Sign Images:\")\n",
    "\n",
    "# Plot the input Images \n",
    "fig, axs = plt.subplots(1,5, figsize=(15, 2))\n",
    "for i in range(len(my_images_org)):\n",
    "    axs[i].imshow(my_images_org[i].squeeze())\n",
    "    axs[i].set_title(str(signnames[my_labels[i]][0]))"
   ]
  },
  {
   "cell_type": "markdown",
   "metadata": {
    "deletable": true,
    "editable": true
   },
   "source": [
    "### Predict the Sign Type for Each Image"
   ]
  },
  {
   "cell_type": "code",
   "execution_count": 22,
   "metadata": {
    "collapsed": false,
    "deletable": true,
    "editable": true
   },
   "outputs": [
    {
     "data": {
      "image/png": "[encoded data removed]",
      "text/plain": [
       "<matplotlib.figure.Figure at 0x7f7b175ec0b8>"
      ]
     },
     "metadata": {},
     "output_type": "display_data"
    }
   ],
   "source": [
    "### Run the predictions here and use the model to output the prediction for each image.\n",
    "\n",
    "with tf.Session() as sess:\n",
    "    saver.restore(sess, tf.train.latest_checkpoint('.'))\n",
    "    test_accuracy = evaluate(my_images, my_labels)\n",
    "    #Get top 1 predicted class for each image\n",
    "    output = sess.run(tf.nn.top_k(tf.nn.softmax(logits), 1),feed_dict={x: my_images, keep_prob:1.0})\n",
    "    predicts = np.array(output[1])\n",
    "    \n",
    "    #Plotting the Graph \n",
    "    fig, axs = plt.subplots(1,5, figsize=(15, 2))\n",
    "    for i in range(len(my_images)):\n",
    "        axs[i].imshow(my_images[i].squeeze(), cmap='gray')\n",
    "        axs[i].set_title(\"Predicted: \" + str(signnames[predicts[i][0]][0]) \\\n",
    "                         + \"\\nActual: \" + str(signnames[my_labels[i]][0]), fontsize=10)"
   ]
  },
  {
   "cell_type": "markdown",
   "metadata": {
    "deletable": true,
    "editable": true
   },
   "source": [
    "### Analyze Performance"
   ]
  },
  {
   "cell_type": "code",
   "execution_count": 23,
   "metadata": {
    "collapsed": false,
    "deletable": true,
    "editable": true
   },
   "outputs": [
    {
     "name": "stdout",
     "output_type": "stream",
     "text": [
      "Test Accuracy = 60.0%\n"
     ]
    }
   ],
   "source": [
    "### Calculate the accuracy for these 5 new images. \n",
    "print(\"Test Accuracy = {:.1f}%\".format(test_accuracy*100))"
   ]
  },
  {
   "cell_type": "markdown",
   "metadata": {
    "deletable": true,
    "editable": true
   },
   "source": [
    "### Output Top 5 Softmax Probabilities For Each Image Found on the Web"
   ]
  },
  {
   "cell_type": "markdown",
   "metadata": {
    "deletable": true,
    "editable": true
   },
   "source": [
    "For each of the new images, print out the model's softmax probabilities to show the **certainty** of the model's predictions (limit the output to the top 5 probabilities for each image). [`tf.nn.top_k`](https://www.tensorflow.org/versions/r0.12/api_docs/python/nn.html#top_k) could prove helpful here. \n",
    "\n",
    "The example below demonstrates how tf.nn.top_k can be used to find the top k predictions for each image.\n",
    "\n",
    "`tf.nn.top_k` will return the values and indices (class ids) of the top k predictions. So if k=3, for each sign, it'll return the 3 largest probabilities (out of a possible 43) and the correspoding class ids.\n",
    "\n",
    "Take this numpy array as an example. The values in the array represent predictions. The array contains softmax probabilities for five candidate images with six possible classes. `tk.nn.top_k` is used to choose the three classes with the highest probability:\n",
    "\n",
    "```\n",
    "# (5, 6) array\n",
    "a = np.array([[ 0.24879643,  0.07032244,  0.12641572,  0.34763842,  0.07893497,\n",
    "         0.12789202],\n",
    "       [ 0.28086119,  0.27569815,  0.08594638,  0.0178669 ,  0.18063401,\n",
    "         0.15899337],\n",
    "       [ 0.26076848,  0.23664738,  0.08020603,  0.07001922,  0.1134371 ,\n",
    "         0.23892179],\n",
    "       [ 0.11943333,  0.29198961,  0.02605103,  0.26234032,  0.1351348 ,\n",
    "         0.16505091],\n",
    "       [ 0.09561176,  0.34396535,  0.0643941 ,  0.16240774,  0.24206137,\n",
    "         0.09155967]])\n",
    "```\n",
    "\n",
    "Running it through `sess.run(tf.nn.top_k(tf.constant(a), k=3))` produces:\n",
    "\n",
    "```\n",
    "TopKV2(values=array([[ 0.34763842,  0.24879643,  0.12789202],\n",
    "       [ 0.28086119,  0.27569815,  0.18063401],\n",
    "       [ 0.26076848,  0.23892179,  0.23664738],\n",
    "       [ 0.29198961,  0.26234032,  0.16505091],\n",
    "       [ 0.34396535,  0.24206137,  0.16240774]]), indices=array([[3, 0, 5],\n",
    "       [0, 1, 4],\n",
    "       [0, 5, 1],\n",
    "       [1, 3, 5],\n",
    "       [1, 4, 3]], dtype=int32))\n",
    "```\n",
    "\n",
    "Looking just at the first row we get `[ 0.34763842,  0.24879643,  0.12789202]`, you can confirm these are the 3 largest probabilities in `a`. You'll also notice `[3, 0, 5]` are the corresponding indices."
   ]
  },
  {
   "cell_type": "code",
   "execution_count": 24,
   "metadata": {
    "collapsed": false,
    "deletable": true,
    "editable": true
   },
   "outputs": [
    {
     "name": "stdout",
     "output_type": "stream",
     "text": [
      "Image 1:(Speed limit (60km/h))\n",
      "Top 5 probabilites: [  9.74640489e-01   2.53551695e-02   4.27230134e-06   3.25634133e-08\n",
      "   4.68785055e-09]\n",
      "Top 5 indexes: [40 34 14  3 38]\n",
      "\n",
      "Image 2:(Bumpy road)\n",
      "Top 5 probabilites: [ 1.  0.  0.  0.  0.]\n",
      "Top 5 indexes: [22  0  1  2  3]\n",
      "\n",
      "Image 3:(Pedestrians)\n",
      "Top 5 probabilites: [  1.00000000e+00   3.45818171e-20   3.30779611e-21   1.04122157e-21\n",
      "   1.03542569e-23]\n",
      "Top 5 indexes: [40 36 33 37 14]\n",
      "\n",
      "Image 4:(Keep right)\n",
      "Top 5 probabilites: [ 1.  0.  0.  0.  0.]\n",
      "Top 5 indexes: [38  0  1  2  3]\n",
      "\n",
      "Image 5:(Priority road)\n",
      "Top 5 probabilites: [ 1.  0.  0.  0.  0.]\n",
      "Top 5 indexes: [12  0  1  2  3]\n",
      "\n"
     ]
    }
   ],
   "source": [
    "### Print out the top five softmax probabilities for the predictions on my found the German traffic sign . \n",
    "#Show Top 5 softmax probabilities\n",
    "\n",
    "with tf.Session() as sess:\n",
    "    saver.restore(sess, tf.train.latest_checkpoint('.'))\n",
    "    output = sess.run(tf.nn.top_k(tf.nn.softmax(logits), 5),feed_dict={x: my_images, keep_prob:1.0})\n",
    "    \n",
    "    for i in range(len(output[0])):\n",
    "        print(\"Image {0}:({1})\".format(i+1, signnames[my_labels[i]][0]))\n",
    "        print(\"Top 5 probabilites: {0}\".format(output[0][i]))\n",
    "        print(\"Top 5 indexes: {0}\".format(output[1][i]))\n",
    "        print()"
   ]
  },
  {
   "cell_type": "markdown",
   "metadata": {
    "deletable": true,
    "editable": true
   },
   "source": [
    "> **Note**: Once you have completed all of the code implementations, you need to finalize your work by exporting the IPython Notebook as an HTML document. Before exporting the notebook to html, all of the code cells need to have been run. You can then export the notebook by using the menu above and navigating to  \\n\",\n",
    "    \"**File -> Download as -> HTML (.html)**. Include the finished document along with this notebook as your submission. "
   ]
  },
  {
   "cell_type": "markdown",
   "metadata": {
    "deletable": true,
    "editable": true
   },
   "source": [
    "### Project Writeup\n",
    "\n",
    "Once you have completed the code implementation, document your results in a project writeup using this [template](https://github.com/udacity/CarND-Traffic-Sign-Classifier-Project/blob/master/writeup_template.md) as a guide. The writeup can be in a markdown or pdf file. "
   ]
  }
 ],
 "metadata": {
  "anaconda-cloud": {},
  "kernelspec": {
   "display_name": "Python [default]",
   "language": "python",
   "name": "python3"
  },
  "language_info": {
   "codemirror_mode": {
    "name": "ipython",
    "version": 3
   },
   "file_extension": ".py",
   "mimetype": "text/x-python",
   "name": "python",
   "nbconvert_exporter": "python",
   "pygments_lexer": "ipython3",
   "version": "3.5.2"
  }
 },
 "nbformat": 4,
 "nbformat_minor": 1
}
